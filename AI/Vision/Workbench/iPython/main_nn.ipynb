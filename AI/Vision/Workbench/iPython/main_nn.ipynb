{
 "metadata": {
  "kernelspec": {
   "display_name": "Python 2",
   "language": "python",
   "name": "python2"
  },
  "language_info": {
   "codemirror_mode": {
    "name": "ipython",
    "version": 2
   },
   "file_extension": ".py",
   "mimetype": "text/x-python",
   "name": "python",
   "nbconvert_exporter": "python",
   "pygments_lexer": "ipython2",
   "version": "2.7.6"
  },
  "name": "",
  "signature": "sha256:20633fe2123a1eb1d9c012242f5b963da08f51af10227894f324bddb1cd15d4c"
 },
 "nbformat": 3,
 "nbformat_minor": 0,
 "worksheets": [
  {
   "cells": [
    {
     "cell_type": "code",
     "collapsed": true,
     "input": [
      "#ini-iPython"
     ],
     "language": "python",
     "metadata": {},
     "outputs": [],
     "prompt_number": 1
    },
    {
     "cell_type": "heading",
     "level": 1,
     "metadata": {},
     "source": [
      "Executando no diret\u00f3rio principal"
     ]
    },
    {
     "cell_type": "code",
     "collapsed": true,
     "input": [
      "import os\n",
      "os.chdir('../../') #Executando na pasta Vision\n",
      "os.system(\"cd Workbench/ && ./zerar.sh && cd ..\")\n",
      "os.system(\"cd Workbench/iPython/ && ./convertendo.sh && cd ../../\")\n",
      "import sys\n",
      "sys.path.append('./include')\n",
      "sys.path.append('./src')\n",
      "sys.path.append('./Workbench/iPython')\n",
      "#end-iPython"
     ],
     "language": "python",
     "metadata": {},
     "outputs": [],
     "prompt_number": 2
    },
    {
     "cell_type": "markdown",
     "metadata": {},
     "source": [
      " ****************************************************************************\n",
      " * @file: trainNN.py\n",
      " * @project: ROBOFEI-HT - FEI \ud83d\ude1b\n",
      " * @author: Vinicius Nicassio Ferreira\n",
      " * @version: V0.0.1\n",
      " * @created: 23/10/2017\n",
      " * @e-mail: vinicius.nicassio@gmail.com\n",
      " * @brief: Vision\n",
      " ****************************************************************************\n",
      " Program to execute the Vision process\n",
      " ****************************************************************************"
     ]
    },
    {
     "cell_type": "markdown",
     "metadata": {},
     "source": [
      "---- List of execution parameters ----"
     ]
    },
    {
     "cell_type": "code",
     "collapsed": false,
     "input": [
      "#des-iPython import argparse\n",
      "\n",
      "#des-iPython parser = argparse.ArgumentParser(\n",
      "#des-iPython     description='Vision',\n",
      "#des-iPython     epilog= 'Respons\u00e1vel por realizar as detec\u00e7\u00f5es de objetos utilizando a camera e rastrear os objetos na imagens utilizando os motores.\\\\' \\\n",
      "#des-iPython         'Responsible for performing object detections using the camera and tracking the objects in the imagens using the engines.'\n",
      "#des-iPython )\n",
      "\n",
      "#des-iPython parser.add_argument(\n",
      "#des-iPython     '--video', # Full name\n",
      "#des-iPython     '--v', # Abbreviation for the name\n",
      "#des-iPython     type = str, # Type variable\n",
      "#des-iPython     help = 'Utiliza um video para execu\u00e7\u00e3o do sistema de vis\u00e3o.\\\\' \\\n",
      "#des-iPython     'Uses a video for running the vision system.' # Description of the variable\n",
      "#des-iPython )\n",
      "\n",
      "#des-iPython parser.add_argument(\n",
      "#des-iPython     '--camera', # Full name\n",
      "#des-iPython     '--c', # Abbreviation for the name\n",
      "#des-iPython     action = \"store_true\", # Type variable\n",
      "#des-iPython     help = 'Calibra valor para a c\u00e2mera.\\\\' \\\n",
      "#des-iPython     'Calibrates value for the camera.' # Description of the variable\n",
      "#des-iPython )\n",
      "\n",
      "#des-iPython parser.add_argument(\n",
      "#des-iPython     '--dnn', # Full name\n",
      "#des-iPython     action = \"store_true\", # Type variable\n",
      "#des-iPython     help = 'Exibe a classifica\u00e7\u00e3o e a marca\u00e7\u00e3o feita pela DNN e ajusta os parametros para \\'train\\'.\\\\' \\\n",
      "#des-iPython     'Displays a DNN sort and markup and set the parameters to \\'train\\'.' # Description of the variable\n",
      "#des-iPython )\n",
      "\n",
      "#des-iPython parser.add_argument(\n",
      "#des-iPython     '--train', # Full name\n",
      "#des-iPython     '--tr', # Abbreviation for the name\n",
      "#des-iPython     action = \"store_true\", # Type variable\n",
      "#des-iPython     help = 'Salva as imagens que tiveram um baixo percentual de classifica\u00e7\u00e3o e cria um XML de marca\u00e7\u00e3o.\\\\' \\\n",
      "#des-iPython     'Saves imagens that have a low rating percentage and creates a markup XML.' # Description of the variable\n",
      "#des-iPython )\n",
      "\n",
      "#des-iPython parser.add_argument(\n",
      "#des-iPython     '--robots', # Full name\n",
      "#des-iPython     '--rob', # Abbreviation for the name\n",
      "#des-iPython     action = \"store_true\", # Type variable\n",
      "#des-iPython     help = 'adlks.\\\\' \\\n",
      "#des-iPython     'adlks.' # Description of the variable\n",
      "#des-iPython )\n",
      "\n",
      "#ini-iPython\n",
      "#des-iPython parser.add_argument(\n",
      "#des-iPython     '--savedata', # Full name\n",
      "#des-iPython     '--sd', # Abbreviation for the name\n",
      "#des-iPython     action = \"store_true\", # Type variable\n",
      "#des-iPython     help = 'Calibra valor para a c\u00e2mera.\\\\' \\\n",
      "#des-iPython     'Calibrates value for the camera.' # Description of the variable\n",
      "#des-iPython )\n",
      "#end-iPython\n",
      "\n",
      "#des-iPython args = parser.parse_args()\n",
      "#ini-iPython\n",
      "class argumentos:\n",
      "    maximumindividuals = 4\n",
      "    dnn = False\n",
      "    train = False\n",
      "    video = None\n",
      "    robots = False\n",
      "\n",
      "args = argumentos()\n",
      "#end-iPython"
     ],
     "language": "python",
     "metadata": {},
     "outputs": [],
     "prompt_number": 3
    },
    {
     "cell_type": "markdown",
     "metadata": {},
     "source": [
      "---- Imports ----"
     ]
    },
    {
     "cell_type": "code",
     "collapsed": false,
     "input": [
      "# Libraries to be used.\n",
      "#des-iPython import sys\n",
      "#des-iPython sys.path.append('./include')\n",
      "#des-iPython sys.path.append('./src')"
     ],
     "language": "python",
     "metadata": {},
     "outputs": [],
     "prompt_number": 4
    },
    {
     "cell_type": "code",
     "collapsed": false,
     "input": [
      "# Used class developed by RoboFEI-HT.\n",
      "from Individual import *"
     ],
     "language": "python",
     "metadata": {},
     "outputs": [],
     "prompt_number": 5
    },
    {
     "cell_type": "markdown",
     "metadata": {},
     "source": [
      "---- Preparing process ----"
     ]
    },
    {
     "cell_type": "code",
     "collapsed": false,
     "input": [
      "# Dados de treinamento\n",
      "intrain = (np.random.rand(1000)*100).reshape(-1, 1)\n",
      "outtrain = intrain*2 + 10  # fun\u00e7\u00e3o\n",
      "\n",
      "# Dados de teste\n",
      "intest = (np.random.rand(1000)*100).reshape(-1, 1)\n",
      "outtest = intest*2 + 10  # fun\u00e7\u00e3o\n",
      "\n",
      "population = [ ]\n",
      "\n",
      "for __ in xrange(args.maximumindividuals):\n",
      "    population.append(Individual( ))"
     ],
     "language": "python",
     "metadata": {},
     "outputs": [],
     "prompt_number": 14
    },
    {
     "cell_type": "markdown",
     "metadata": {},
     "source": [
      "---- Run process ----"
     ]
    },
    {
     "cell_type": "code",
     "collapsed": false,
     "input": [
      "for individual in population:\n",
      "    individual.performance(intrain, outtrain.ravel( ), intest, outtest.ravel( ))\n",
      "\n",
      "population.sort(key=lambda x: x.weight, reverse=True)\n",
      "\n",
      "population = population[:len(population)/2]\n",
      "\n",
      "###############  DEBUG #################################################\n",
      "print \"\\n*******************\"\n",
      "for individual in population:\n",
      "    print \"weight:\", individual.weight\n",
      "    print \"architecture: \", individual.network_architecture\n",
      "print \"*******************\\n\"\n",
      "###############  DEBUG #################################################\n",
      "\n",
      "aux = 0\n",
      "while len(population) < args.maximumindividuals:\n",
      "    if np.random.rand() > 30.0/100:\n",
      "        print \"Faz o cross\"\n",
      "        for son in population[aux].cross(population[aux+1]):\n",
      "            population.append(son)\n",
      "        aux += 2\n",
      "    else:\n",
      "        print \"Faz o x-man\"\n",
      "        population.append(\n",
      "            population[aux].mutation()\n",
      "        )\n",
      "        aux += 1\n",
      "\n",
      "###############  DEBUG #################################################\n",
      "print \"\\n*******************\"\n",
      "for individual in population:\n",
      "    print \"weight:\", individual.weight\n",
      "    print \"architecture: \", individual.network_architecture\n",
      "print \"*******************\\n\"\n",
      "###############  DEBUG #################################################"
     ],
     "language": "python",
     "metadata": {},
     "outputs": [
      {
       "output_type": "stream",
       "stream": "stdout",
       "text": [
        "\n",
        "*******************\n",
        "weight: 0.999999998369\n",
        "architecture:  [42  4]\n",
        "weight: 0.999999998369\n",
        "architecture:  [42  4]\n",
        "*******************\n",
        "\n",
        "Faz o cross\n",
        "\n",
        "*******************\n",
        "weight: 0.999999998369\n",
        "architecture:  [42  4]\n",
        "weight: 0.999999998369\n",
        "architecture:  [42  4]\n",
        "weight: None\n",
        "architecture:  [42  4]\n",
        "weight: None\n",
        "architecture:  [42  4]\n",
        "*******************\n",
        "\n"
       ]
      }
     ],
     "prompt_number": 21
    },
    {
     "cell_type": "code",
     "collapsed": false,
     "input": [],
     "language": "python",
     "metadata": {},
     "outputs": [],
     "prompt_number": 15
    },
    {
     "cell_type": "markdown",
     "metadata": {},
     "source": [
      "---- Finalizing process ----"
     ]
    },
    {
     "cell_type": "code",
     "collapsed": false,
     "input": [],
     "language": "python",
     "metadata": {},
     "outputs": [
      {
       "metadata": {},
       "output_type": "pyout",
       "prompt_number": 10,
       "text": [
        "[<Individual.Individual instance at 0x7fdf162c8560>,\n",
        " <Individual.Individual instance at 0x7fdf162c8518>,\n",
        " <Individual.Individual instance at 0x7fdf16059ab8>,\n",
        " <Individual.Individual instance at 0x7fdf16059ef0>]"
       ]
      }
     ],
     "prompt_number": 10
    },
    {
     "cell_type": "code",
     "collapsed": false,
     "input": [],
     "language": "python",
     "metadata": {},
     "outputs": []
    }
   ],
   "metadata": {}
  }
 ]
}