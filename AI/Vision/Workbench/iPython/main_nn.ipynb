{
 "metadata": {
  "kernelspec": {
   "display_name": "Python 2",
   "language": "python",
   "name": "python2"
  },
  "language_info": {
   "codemirror_mode": {
    "name": "ipython",
    "version": 2
   },
   "file_extension": ".py",
   "mimetype": "text/x-python",
   "name": "python",
   "nbconvert_exporter": "python",
   "pygments_lexer": "ipython2",
   "version": "2.7.6"
  },
  "name": "",
  "signature": "sha256:92571d5675d547d442a980d03014fb4083bf26198c665b25290ef21c0b4203fb"
 },
 "nbformat": 3,
 "nbformat_minor": 0,
 "worksheets": [
  {
   "cells": [
    {
     "cell_type": "code",
     "collapsed": true,
     "input": [
      "#ini-iPython"
     ],
     "language": "python",
     "metadata": {},
     "outputs": [],
     "prompt_number": 1
    },
    {
     "cell_type": "heading",
     "level": 1,
     "metadata": {},
     "source": [
      "Executando no diret\u00f3rio principal"
     ]
    },
    {
     "cell_type": "code",
     "collapsed": true,
     "input": [
      "import os\n",
      "os.chdir('../../') #Executando na pasta Vision\n",
      "os.system(\"cd Workbench/ && ./zerar.sh && cd ..\")\n",
      "os.system(\"cd Workbench/iPython/ && ./convertendo.sh && cd ../../\")\n",
      "import sys\n",
      "sys.path.append('./include')\n",
      "sys.path.append('./src')\n",
      "sys.path.append('./Workbench/iPython')\n",
      "#end-iPython"
     ],
     "language": "python",
     "metadata": {},
     "outputs": [],
     "prompt_number": 2
    },
    {
     "cell_type": "markdown",
     "metadata": {},
     "source": [
      " ****************************************************************************\n",
      " * @file: trainNN.py\n",
      " * @project: ROBOFEI-HT - FEI \ud83d\ude1b\n",
      " * @author: Vinicius Nicassio Ferreira\n",
      " * @version: V0.0.1\n",
      " * @created: 23/10/2017\n",
      " * @e-mail: vinicius.nicassio@gmail.com\n",
      " * @brief: Vision\n",
      " ****************************************************************************\n",
      " Program to execute the Vision process\n",
      " ****************************************************************************"
     ]
    },
    {
     "cell_type": "markdown",
     "metadata": {},
     "source": [
      "---- List of execution parameters ----"
     ]
    },
    {
     "cell_type": "code",
     "collapsed": false,
     "input": [
      "#des-iPython import argparse\n",
      "\n",
      "#des-iPython parser = argparse.ArgumentParser(\n",
      "#des-iPython     description='train NN',\n",
      "#des-iPython     epilog= 'Respons\u00e1vel por realizar o treinamento da rede neural que calcular a dist\u00e2ncia.\\\\' \\\n",
      "#des-iPython         'Responsible for conducting neural network training that computes distance.'\n",
      "#des-iPython )\n",
      "\n",
      "#des-iPython parser.add_argument(\n",
      "#des-iPython     '--generations', # Full name\n",
      "#des-iPython     '--g', # Abbreviation for the name\n",
      "#des-iPython     type = int, # Type variable\n",
      "#des-iPython     help = 'Quantidades de gera\u00e7\u00f5es.\\\\' \\\n",
      "#des-iPython     'Number of generations.' # Description of the variable\n",
      "#des-iPython )\n",
      "\n",
      "#des-iPython parser.add_argument(\n",
      "#des-iPython     '--maximumindividuals', # Full name\n",
      "#des-iPython     '--m', # Abbreviation for the name\n",
      "#des-iPython     type = int, # Type variable\n",
      "#des-iPython     help = 'Quantidade m\u00e1xima de indiv\u00edduos em uma popula\u00e7\u00e3o.\\\\' \\\n",
      "#des-iPython     'Maximum number of individuals in a population.' # Description of the variable\n",
      "#des-iPython )\n",
      "\n",
      "#ini-iPython\n",
      "#des-iPython parser.add_argument(\n",
      "#des-iPython     '--savedata', # Full name\n",
      "#des-iPython     '--sd', # Abbreviation for the name\n",
      "#des-iPython     action = \"store_true\", # Type variable\n",
      "#des-iPython     help = 'Calibra valor para a c\u00e2mera.\\\\' \\\n",
      "#des-iPython     'Calibrates value for the camera.' # Description of the variable\n",
      "#des-iPython )\n",
      "#end-iPython\n",
      "\n",
      "#des-iPython args = parser.parse_args()\n",
      "#ini-iPython\n",
      "class argumentos:\n",
      "    maximumindividuals = 4\n",
      "    generations = 2\n",
      "\n",
      "args = argumentos()\n",
      "#end-iPython"
     ],
     "language": "python",
     "metadata": {},
     "outputs": [],
     "prompt_number": 3
    },
    {
     "cell_type": "markdown",
     "metadata": {},
     "source": [
      "---- Imports ----"
     ]
    },
    {
     "cell_type": "code",
     "collapsed": false,
     "input": [
      "# Libraries to be used.\n",
      "#des-iPython import sys\n",
      "#des-iPython import os\n",
      "#des-iPython os.chdir('../../') #Executando na pasta Vision\n",
      "#des-iPython sys.path.append('./include')\n",
      "#des-iPython sys.path.append('./src')"
     ],
     "language": "python",
     "metadata": {},
     "outputs": [],
     "prompt_number": 4
    },
    {
     "cell_type": "code",
     "collapsed": false,
     "input": [
      "# Used class developed by RoboFEI-HT.\n",
      "from Individual import *"
     ],
     "language": "python",
     "metadata": {},
     "outputs": [],
     "prompt_number": 5
    },
    {
     "cell_type": "markdown",
     "metadata": {},
     "source": [
      "---- Preparing process ----"
     ]
    },
    {
     "cell_type": "code",
     "collapsed": false,
     "input": [
      "# Dados de treinamento\n",
      "intrain = (np.random.rand(1000)*100).reshape(-1, 1)\n",
      "outtrain = intrain*2 + 10  # fun\u00e7\u00e3o\n",
      "\n",
      "# Dados de teste\n",
      "intest = (np.random.rand(1000)*100).reshape(-1, 1)\n",
      "outtest = intest*2 + 10  # fun\u00e7\u00e3o\n",
      "\n",
      "population = [ ]\n",
      "\n",
      "if args.maximumindividuals is None:\n",
      "    args.maximumindividuals = 50\n",
      "\n",
      "if args.generations is None:\n",
      "    args.generations = 50\n",
      "\n",
      "for __ in xrange(args.maximumindividuals):\n",
      "    population.append(Individual( ))"
     ],
     "language": "python",
     "metadata": {},
     "outputs": [],
     "prompt_number": 6
    },
    {
     "cell_type": "markdown",
     "metadata": {},
     "source": [
      "---- Run process ----"
     ]
    },
    {
     "cell_type": "code",
     "collapsed": false,
     "input": [
      "#des-iPython for __ in xrange(args.generations):\n",
      "#ini-tab\n",
      "for individual in population:\n",
      "    print individual.network_architecture #debug-iPython\n",
      "    individual.performance(intrain, outtrain.ravel( ), intest, outtest.ravel( ))\n",
      "\n",
      "population.sort(key=lambda x: x.weight, reverse=True)\n",
      "\n",
      "#ini-iPython\n",
      "###############  DEBUG #################################################\n",
      "print \"\\n*******************\"\n",
      "for individual in population:\n",
      "    print \"weight:\", individual.weight\n",
      "    print \"architecture: \", individual.network_architecture\n",
      "print \"*******************\\n\"\n",
      "###############  DEBUG #################################################\n",
      "#end-iPython\n",
      "\n",
      "population = population[:len(population)/2]\n",
      "\n",
      "aux = 0\n",
      "while len(population) < args.maximumindividuals:\n",
      "    if np.random.rand() > 30.0/100:\n",
      "        print \"Faz o cross\" #debug-iPython\n",
      "        for son in population[aux].cross(population[aux+1]):\n",
      "            population.append(son)\n",
      "            aux += 1\n",
      "    else:\n",
      "        print \"Faz o x-man\" #debug-iPython\n",
      "        son = population[aux].mutation()\n",
      "        population.append(son)\n",
      "        aux += 1\n",
      "    count = 1\n",
      "    while count < len(population):\n",
      "        for individual in population[count:]:\n",
      "            if np.array_equal(population[count-1].network_architecture, individual.network_architecture):\n",
      "                population.remove(individual)\n",
      "                aux -= 1\n",
      "        count += 1\n",
      "#end-tab\n",
      "\n",
      "###############  DEBUG #################################################\n",
      "print \"\\n*******************\"\n",
      "for individual in population:\n",
      "    print \"weight:\", individual.weight\n",
      "    print \"architecture: \", individual.network_architecture\n",
      "print \"*******************\\n\"\n",
      "###############  DEBUG #################################################"
     ],
     "language": "python",
     "metadata": {},
     "outputs": [
      {
       "output_type": "stream",
       "stream": "stdout",
       "text": [
        "[45 18  6 34 28 30]\n",
        "[17 39 21 29 16 31 31  5]"
       ]
      },
      {
       "output_type": "stream",
       "stream": "stdout",
       "text": [
        "\n",
        "[ 5  2 31 24 34 32 46]"
       ]
      },
      {
       "output_type": "stream",
       "stream": "stdout",
       "text": [
        "\n",
        "[14 12 36  4 29 19 38 41]"
       ]
      },
      {
       "output_type": "stream",
       "stream": "stdout",
       "text": [
        "\n",
        "\n",
        "*******************"
       ]
      },
      {
       "output_type": "stream",
       "stream": "stdout",
       "text": [
        "\n",
        "weight: 0.9999999944733173\n",
        "architecture:  [14 12 36  4 29 19 38 41]\n",
        "weight: 0.9999999855909193\n",
        "architecture:  [45 18  6 34 28 30]\n",
        "weight: 0.9999999790195636\n",
        "architecture:  [17 39 21 29 16 31 31  5]\n",
        "weight: 0.9999999683848093\n",
        "architecture:  [ 5  2 31 24 34 32 46]\n",
        "*******************\n",
        "\n",
        "Faz o cross\n",
        "\n",
        "*******************\n",
        "weight: 0.9999999944733173\n",
        "architecture:  [14 12 36  4 29 19 38 41]\n",
        "weight: 0.9999999855909193\n",
        "architecture:  [45 18  6 34 28 30]\n",
        "weight: None\n",
        "architecture:  [14 12 36  4 29 28 30]\n",
        "weight: None\n",
        "architecture:  [45 18  6 34 19 38 41]\n",
        "*******************\n",
        "\n"
       ]
      }
     ],
     "prompt_number": 7
    },
    {
     "cell_type": "markdown",
     "metadata": {},
     "source": [
      "---- Finalizing process ----"
     ]
    },
    {
     "cell_type": "code",
     "collapsed": false,
     "input": [
      "# save the model to disk\n",
      "population[0].save()\n",
      "#ini-iPython\n",
      "\n",
      "# some time later...\n",
      "\n",
      "# load the model from disk\n",
      "loaded_model = joblib.load(open(\"./Train/NN/model.sav\", 'rb'))\n",
      "print(loaded_model)\n",
      "#end-iPython"
     ],
     "language": "python",
     "metadata": {},
     "outputs": [
      {
       "output_type": "stream",
       "stream": "stdout",
       "text": [
        "MLPRegressor(activation='relu', alpha=1e-05, batch_size='auto', beta_1=0.9,\n",
        "       beta_2=0.999, early_stopping=False, epsilon=1e-08,\n",
        "       hidden_layer_sizes=array([14, 12, 36,  4, 29, 19, 38, 41]),\n",
        "       learning_rate='constant', learning_rate_init=0.001, max_iter=10000,\n",
        "       momentum=0.9, nesterovs_momentum=True, power_t=0.5, random_state=1,\n",
        "       shuffle=True, solver='lbfgs', tol=0.0001, validation_fraction=0.1,\n",
        "       verbose=False, warm_start=False)\n"
       ]
      }
     ],
     "prompt_number": 10
    },
    {
     "cell_type": "code",
     "collapsed": false,
     "input": [],
     "language": "python",
     "metadata": {},
     "outputs": []
    }
   ],
   "metadata": {}
  }
 ]
}