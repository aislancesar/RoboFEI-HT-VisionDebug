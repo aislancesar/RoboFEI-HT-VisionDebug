{
 "metadata": {
  "kernelspec": {
   "display_name": "Python 2",
   "language": "python",
   "name": "python2"
  },
  "language_info": {
   "codemirror_mode": {
    "name": "ipython",
    "version": 2
   },
   "file_extension": ".py",
   "mimetype": "text/x-python",
   "name": "python",
   "nbconvert_exporter": "python",
   "pygments_lexer": "ipython2",
   "version": "2.7.6"
  },
  "name": "",
  "signature": "sha256:2b7949c6e7db139e614e9b88b650d3721ac185fc38fee9aa8a72f8999513de22"
 },
 "nbformat": 3,
 "nbformat_minor": 0,
 "worksheets": [
  {
   "cells": [
    {
     "cell_type": "markdown",
     "metadata": {
      "collapsed": true
     },
     "source": [
      "****************************************************************************\n",
      "* @file: check.py\n",
      "* @project: ROBOFEI-HT - FEI \ud83d\ude1b\n",
      "* @author: Vinicius Nicassio Ferreira\n",
      "* @version: V0.0.1\n",
      "* @created: 23/10/2017\n",
      "* @e-mail: vinicius.nicassio@gmail.com\n",
      "* @brief: Class check\n",
      "****************************************************************************"
     ]
    },
    {
     "cell_type": "code",
     "collapsed": true,
     "input": [
      "#ini-iPython"
     ],
     "language": "python",
     "metadata": {},
     "outputs": [],
     "prompt_number": 1
    },
    {
     "cell_type": "heading",
     "level": 1,
     "metadata": {},
     "source": [
      "Executando no diret\u00f3rio principal"
     ]
    },
    {
     "cell_type": "code",
     "collapsed": true,
     "input": [
      "import os\n",
      "os.chdir('../../') #Executando na pasta Visual_Memory\n",
      "# os.system(\"cd Workbench/ && ./zerar.sh && cd ..\")\n",
      "# os.system(\"cd Workbench/iPython/ && ./convertendo.sh && cd ../../\")\n",
      "import sys\n",
      "sys.path.append('./include')\n",
      "sys.path.append('./src')\n",
      "sys.path.append('./Workbench/iPython')\n",
      "#end-iPython"
     ],
     "language": "python",
     "metadata": {},
     "outputs": [],
     "prompt_number": 2
    },
    {
     "cell_type": "markdown",
     "metadata": {},
     "source": [
      "---- Imports ----"
     ]
    },
    {
     "cell_type": "code",
     "collapsed": true,
     "input": [
      "# Libraries to be used.\n",
      "import time\n",
      "import sys\n",
      "import os\n",
      "#des-iPython os.chdir('../../')\n",
      "#des-iPython sys.path.append('./include')\n",
      "#des-iPython sys.path.append('./src')"
     ],
     "language": "python",
     "metadata": {},
     "outputs": [],
     "prompt_number": 3
    },
    {
     "cell_type": "code",
     "collapsed": false,
     "input": [
      "num_files = 10\n",
      "\n",
      "key = \"S\"\n",
      "while key.upper() == \"S\":\n",
      "    # Selecionando arquivos\n",
      "    xmls = [i.rsplit(\".\", 1)[0] for i in os.listdir(\"./Train/DNN/annotations DNN\")][:num_files]\n",
      "    if xmls == []:\n",
      "        print \"Nenhuma imagens pr\u00e9-classificada pela DNN\"\n",
      "        time.sleep(1)\n",
      "        xmls = [i.rsplit(\".\", 1)[0] for i in os.listdir(\"./Train/DNN/imagens to classify\")][:num_files]\n",
      "        if xmls == []:\n",
      "            print \"N\u00e3o tem mais imagens para serem marcadas\"\n",
      "            time.sleep(1)\n",
      "            break\n",
      "    \n",
      "    # Organizando arquivos nas pastas\n",
      "    os.system(\"mkdir ./Train/DNN/imagens\\ to\\ check\")\n",
      "    for files in xmls:\n",
      "        os.system(\"mv ./Train/DNN/imagens\\ to\\ classify/\"+files.replace(\":\", \"\\\\:\").replace(\" \", \"\\\\ \")+\".jpg ./Train/DNN/imagens\\ to\\ check\")\n",
      "    \n",
      "    # Abrindo programa de marca\u00e7\u00e3o\n",
      "    os.system(\"clear\")\n",
      "    os.system(\"python ~/labelImg/labelImg.py\")# $(pwd)/Train/DNN/imagens\\ to\\ check/ $(pwd)/Train/DNN/annotations\\ DNN/\")\n",
      "    \n",
      "    os.system(\"clear\")\n",
      "    key = raw_input(\"As marca\u00e7\u00f5es foram finalizadas ? [S/N]: \")\n",
      "    if key.upper() == \"N\":\n",
      "        os.system(\"mv ./Train/DNN/imagens\\ to\\ check/* ./Train/DNN/imagens\\ to\\ classify\")\n",
      "        break\n",
      "    \n",
      "    # Finalizando marca\u00e7\u00f5es e separando classifica\u00e7\u00f5es\n",
      "    os.system(\"mkdir ./Train/DNN/annotations\")\n",
      "    os.system(\"mkdir ./Train/DNN/imagensTrain\")\n",
      "    os.system(\"mv ./Train/DNN/imagens\\ to\\ check/* ./Train/DNN/imagensTrain\")\n",
      "    for files in xmls:\n",
      "        os.system(\"mv ./Train/DNN/annotations\\ DNN/\"+files.replace(\":\", \"\\\\:\").replace(\" \", \"\\\\ \")+\".xml ./Train/DNN/annotations\")\n",
      "        os.system('sed -i \"s/imagens to check/imagensTrain/g\" ./Train/DNN/annotations/'+files.replace(\":\", \"\\\\:\").replace(\" \", \"\\\\ \")+\".xml\")\n",
      "    \n",
      "    os.system(\"clear\")\n",
      "    key = raw_input(\"Deseja checar/marcar mais \" + str(num_files) + \" imagens ? [S/N]: \")"
     ],
     "language": "python",
     "metadata": {},
     "outputs": [
      {
       "output_type": "stream",
       "stream": "stdout",
       "text": [
        "Deseja checar/marcar mais 5 imagens ? [S/N]: s\n",
        "As marca\u00e7\u00f5es foram finalizadas ? [S/N]: n\n"
       ]
      }
     ],
     "prompt_number": 5
    },
    {
     "cell_type": "code",
     "collapsed": false,
     "input": [
      "os.system(\"rm -R ./Train/DNN/imagens\\ to\\ check\")"
     ],
     "language": "python",
     "metadata": {},
     "outputs": [
      {
       "metadata": {},
       "output_type": "pyout",
       "prompt_number": 7,
       "text": [
        "0"
       ]
      }
     ],
     "prompt_number": 7
    },
    {
     "cell_type": "code",
     "collapsed": false,
     "input": [],
     "language": "python",
     "metadata": {},
     "outputs": [],
     "prompt_number": null
    },
    {
     "cell_type": "code",
     "collapsed": false,
     "input": [],
     "language": "python",
     "metadata": {},
     "outputs": [],
     "prompt_number": null
    },
    {
     "cell_type": "code",
     "collapsed": true,
     "input": [],
     "language": "python",
     "metadata": {},
     "outputs": [],
     "prompt_number": null
    },
    {
     "cell_type": "code",
     "collapsed": false,
     "input": [],
     "language": "python",
     "metadata": {},
     "outputs": [],
     "prompt_number": null
    },
    {
     "cell_type": "code",
     "collapsed": true,
     "input": [],
     "language": "python",
     "metadata": {},
     "outputs": [],
     "prompt_number": null
    }
   ],
   "metadata": {}
  }
 ]
}