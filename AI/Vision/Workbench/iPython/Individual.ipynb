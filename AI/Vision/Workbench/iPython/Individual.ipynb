{
 "metadata": {
  "kernelspec": {
   "display_name": "Python 2",
   "language": "python",
   "name": "python2"
  },
  "language_info": {
   "codemirror_mode": {
    "name": "ipython",
    "version": 2
   },
   "file_extension": ".py",
   "mimetype": "text/x-python",
   "name": "python",
   "nbconvert_exporter": "python",
   "pygments_lexer": "ipython2",
   "version": "2.7.6"
  },
  "name": "",
  "signature": "sha256:accf41181d3da22072f386bb5c7e336564af7999cd28e1c7c61c82ba4bdc956c"
 },
 "nbformat": 3,
 "nbformat_minor": 0,
 "worksheets": [
  {
   "cells": [
    {
     "cell_type": "markdown",
     "metadata": {},
     "source": [
      "****************************************************************************\n",
      "* @file: Individual.py\n",
      "* @project: ROBOFEI-HT - FEI \ud83d\ude1b\n",
      "* @author: Vinicius Nicassio Ferreira\n",
      "* @version: V0.0.1\n",
      "* @created: 23/10/2017\n",
      "* @e-mail: vinicius.nicassio@gmail.com\n",
      "* @brief: Class Individual\n",
      "****************************************************************************"
     ]
    },
    {
     "cell_type": "code",
     "collapsed": true,
     "input": [
      "#ini-iPython"
     ],
     "language": "python",
     "metadata": {},
     "outputs": [],
     "prompt_number": 1
    },
    {
     "cell_type": "heading",
     "level": 1,
     "metadata": {},
     "source": [
      "Executando no diret\u00f3rio principal"
     ]
    },
    {
     "cell_type": "code",
     "collapsed": true,
     "input": [
      "import os\n",
      "os.chdir('../../') #Executando na pasta Vision\n",
      "os.system(\"cd Workbench/ && ./zerar.sh && cd ..\")\n",
      "os.system(\"cd Workbench/iPython/ && ./convertendo.sh && cd ../../\")\n",
      "import sys\n",
      "sys.path.append('./include')\n",
      "sys.path.append('./src')\n",
      "sys.path.append('./Workbench/iPython')\n",
      "#end-iPython"
     ],
     "language": "python",
     "metadata": {},
     "outputs": [],
     "prompt_number": 2
    },
    {
     "cell_type": "markdown",
     "metadata": {
      "collapsed": true
     },
     "source": [
      "---- Imports ----"
     ]
    },
    {
     "cell_type": "code",
     "collapsed": true,
     "input": [
      "# The standard libraries used in the vision system.\n",
      "import numpy as np\n",
      "import sklearn.neural_network as nn\n",
      "from sklearn.externals import joblib # Reading data recorded by sklearn.\n",
      "import random"
     ],
     "language": "python",
     "metadata": {},
     "outputs": [],
     "prompt_number": 3
    },
    {
     "cell_type": "code",
     "collapsed": true,
     "input": [
      "# The standard libraries used in the visual memory system.\n"
     ],
     "language": "python",
     "metadata": {},
     "outputs": [],
     "prompt_number": 4
    },
    {
     "cell_type": "code",
     "collapsed": false,
     "input": [
      "# Used class developed by RoboFEI-HT.\n"
     ],
     "language": "python",
     "metadata": {},
     "outputs": [],
     "prompt_number": 5
    },
    {
     "cell_type": "markdown",
     "metadata": {
      "collapsed": true
     },
     "source": [
      "# Class Individual\n",
      ".\n",
      "doxygen-iPython"
     ]
    },
    {
     "cell_type": "code",
     "collapsed": true,
     "input": [
      "#des-iPython class Individual( ):\n",
      "#ini-tab -> Iniciando c\u00f3digo classe"
     ],
     "language": "python",
     "metadata": {},
     "outputs": [],
     "prompt_number": 6
    },
    {
     "cell_type": "markdown",
     "metadata": {},
     "source": [
      "---- Variables ----"
     ]
    },
    {
     "cell_type": "markdown",
     "metadata": {},
     "source": [
      "# network_architecture\n",
      "The vector representing neural network architecture.\n",
      "doxygen-iPython"
     ]
    },
    {
     "cell_type": "code",
     "collapsed": true,
     "input": [
      "network_architecture = None #self-iPython network_architecture"
     ],
     "language": "python",
     "metadata": {},
     "outputs": [],
     "prompt_number": 7
    },
    {
     "cell_type": "markdown",
     "metadata": {},
     "source": [
      "# network\n",
      "The neural network created based on vector network_architecture.\n",
      "doxygen-iPython"
     ]
    },
    {
     "cell_type": "code",
     "collapsed": true,
     "input": [
      "__network = None #self-iPython __network"
     ],
     "language": "python",
     "metadata": {},
     "outputs": [],
     "prompt_number": 8
    },
    {
     "cell_type": "markdown",
     "metadata": {},
     "source": [
      "# weight\n",
      ".\n",
      "doxygen-iPython"
     ]
    },
    {
     "cell_type": "code",
     "collapsed": true,
     "input": [
      "weight = None #self-iPython weight"
     ],
     "language": "python",
     "metadata": {},
     "outputs": [],
     "prompt_number": 9
    },
    {
     "cell_type": "code",
     "collapsed": true,
     "input": [
      "#ini-iPython\n",
      "\n",
      "# ------- Lista de fun\u00e7\u00f5es -------\n",
      "#self-iPython __calculateWeight\n",
      "#self-iPython performance\n",
      "#self-iPython cross\n",
      "#self-iPython mutation\n",
      "#self-iPython save\n",
      "\n",
      "\n",
      "#end-iPython - Fim listas"
     ],
     "language": "python",
     "metadata": {},
     "outputs": [],
     "prompt_number": 10
    },
    {
     "cell_type": "markdown",
     "metadata": {},
     "source": [
      "# Constructor Class\n",
      "doxygen-iPython"
     ]
    },
    {
     "cell_type": "code",
     "collapsed": false,
     "input": [
      "#des-iPython def __init__(self, net = None):\n",
      "#ini-tab -> Criando construtor\n",
      "net = None #debug-iPython\n",
      "if net is None:\n",
      "    # Generating network architecture\n",
      "    network_architecture = np.array(\n",
      "        np.random.rand(\n",
      "            np.random.randint(9)+1  # quantidade de camadas aleat\u00f3rias de 1 a 9\n",
      "        )*49 + 1,  # adapta\u00e7\u00e3o necessaria\n",
      "        dtype=int\n",
      "    )\n",
      "else:\n",
      "    network_architecture = net\n",
      "\n",
      "print \"Tamanho rede:\", network_architecture #debug-iPython\n",
      "\n",
      "# Instantiated neural network\n",
      "__network = nn.MLPRegressor(\n",
      "    solver='lbfgs',\n",
      "    alpha=1e-5,\n",
      "    hidden_layer_sizes=network_architecture,\n",
      "    random_state=1,\n",
      "    max_iter=10000\n",
      ")\n",
      "\n",
      "print \"Rede instanciada:\", __network #debug-iPython"
     ],
     "language": "python",
     "metadata": {},
     "outputs": [
      {
       "output_type": "stream",
       "stream": "stdout",
       "text": [
        "Tamanho rede: [15]\n",
        "Rede instanciada: MLPRegressor(activation='relu', alpha=1e-05, batch_size='auto', beta_1=0.9,\n",
        "       beta_2=0.999, early_stopping=False, epsilon=1e-08,\n",
        "       hidden_layer_sizes=array([15]), learning_rate='constant',\n",
        "       learning_rate_init=0.001, max_iter=10000, momentum=0.9,\n",
        "       nesterovs_momentum=True, power_t=0.5, random_state=1, shuffle=True,\n",
        "       solver='lbfgs', tol=0.0001, validation_fraction=0.1, verbose=False,\n",
        "       warm_start=False)\n"
       ]
      }
     ],
     "prompt_number": 11
    },
    {
     "cell_type": "code",
     "collapsed": true,
     "input": [
      "#end-tab -> Finalizando construtor"
     ],
     "language": "python",
     "metadata": {},
     "outputs": [],
     "prompt_number": 12
    },
    {
     "cell_type": "markdown",
     "metadata": {},
     "source": [
      "# __calculateWeight\n",
      ".\n",
      "doxygen-iPython"
     ]
    },
    {
     "cell_type": "code",
     "collapsed": true,
     "input": [
      "#eself-iPython __calculateWeight\n",
      "#edes-iPython def __calculateWeight(self, score):\n",
      "def __calculateWeight(score):\n",
      "    global weight #debug-iPython\n",
      "    weight = score #self-iPython __calculateWeight"
     ],
     "language": "python",
     "metadata": {},
     "outputs": [],
     "prompt_number": 13
    },
    {
     "cell_type": "code",
     "collapsed": true,
     "input": [
      "#ini-iPython"
     ],
     "language": "python",
     "metadata": {},
     "outputs": [],
     "prompt_number": 14
    },
    {
     "cell_type": "heading",
     "level": 2,
     "metadata": {},
     "source": [
      "Teste __calculateWeight"
     ]
    },
    {
     "cell_type": "code",
     "collapsed": true,
     "input": [
      "__calculateWeight(2)\n",
      "print \"weight:\", weight\n",
      "#end-iPython"
     ],
     "language": "python",
     "metadata": {},
     "outputs": [
      {
       "output_type": "stream",
       "stream": "stdout",
       "text": [
        "weight: 2\n"
       ]
      }
     ],
     "prompt_number": 15
    },
    {
     "cell_type": "markdown",
     "metadata": {},
     "source": [
      "# performance\n",
      ".\n",
      "doxygen-iPython"
     ]
    },
    {
     "cell_type": "code",
     "collapsed": true,
     "input": [
      "#eself-iPython performance\n",
      "#edes-iPython def performance(self, intrain, outtrain, intest, outtest):\n",
      "def performance(intrain, outtrain, intest, outtest):\n",
      "    # training network\n",
      "    __network.fit(intrain, outtrain)\n",
      "\n",
      "    # testing network\n",
      "    score = __network.score(intest, outtest)\n",
      "\n",
      "    # calculating weight\n",
      "    __calculateWeight(score) #self-iPython performance"
     ],
     "language": "python",
     "metadata": {},
     "outputs": [],
     "prompt_number": 16
    },
    {
     "cell_type": "code",
     "collapsed": true,
     "input": [
      "#ini-iPython"
     ],
     "language": "python",
     "metadata": {},
     "outputs": [],
     "prompt_number": 17
    },
    {
     "cell_type": "markdown",
     "metadata": {},
     "source": [
      "## Teste performance"
     ]
    },
    {
     "cell_type": "code",
     "collapsed": true,
     "input": [
      "# Dados de treinamento\n",
      "intrain = (np.random.rand(1000)*100).reshape(-1, 1)\n",
      "outtrain = intrain*2 + 10  # fun\u00e7\u00e3o\n",
      "\n",
      "# Dados de teste\n",
      "intest = (np.random.rand(1000)*100).reshape(-1, 1)\n",
      "outtest = intest*2 + 10  # fun\u00e7\u00e3o\n",
      "\n",
      "performance(intrain, outtrain, intest, outtest)\n",
      "\n",
      "print \"weight:\", weight\n",
      "#end-iPython"
     ],
     "language": "python",
     "metadata": {},
     "outputs": [
      {
       "output_type": "stream",
       "stream": "stdout",
       "text": [
        "weight: 0.9999999859524542\n"
       ]
      },
      {
       "output_type": "stream",
       "stream": "stderr",
       "text": [
        "/usr/local/lib/python2.7/dist-packages/sklearn/neural_network/multilayer_perceptron.py:1306: DataConversionWarning: A column-vector y was passed when a 1d array was expected. Please change the shape of y to (n_samples, ), for example using ravel().\n",
        "  y = column_or_1d(y, warn=True)\n"
       ]
      }
     ],
     "prompt_number": 18
    },
    {
     "cell_type": "markdown",
     "metadata": {},
     "source": [
      "# cross\n",
      ".\n",
      "doxygen-iPython"
     ]
    },
    {
     "cell_type": "code",
     "collapsed": true,
     "input": [
      "#eself-iPython cross\n",
      "#eself-iPython network_architecture\n",
      "#edes-iPython def cross(self, father):\n",
      "def cross(father):\n",
      "    try:\n",
      "        #edes-iPython cutme = np.random.randint(len(self.network_architecture)-1)+1\n",
      "        cutme = np.random.randint(len(network_architecture)-1)+1\n",
      "    except ValueError:\n",
      "        cutme = 0\n",
      "    try:\n",
      "        cutfather = np.random.randint(len(father.network_architecture)-1)+1\n",
      "    except ValueError:\n",
      "        cutfather = 0\n",
      "\n",
      "    #ini-iPython\n",
      "    print \"me:\", network_architecture\n",
      "\n",
      "    print network_architecture[\n",
      "        :cutme\n",
      "    ]\n",
      "\n",
      "    print network_architecture[\n",
      "        cutme:\n",
      "    ]\n",
      "\n",
      "    print \"\\nfather:\", father.network_architecture\n",
      "\n",
      "    print father.network_architecture[\n",
      "        :cutfather\n",
      "    ]\n",
      "\n",
      "    print father.network_architecture[\n",
      "        cutfather:\n",
      "    ]\n",
      "    #end-iPython\n",
      "\n",
      "    #edes-iPython son1 = np.concatenate([self.network_architecture[:cutme], father.network_architecture[cutfather:]])\n",
      "    son1 = np.concatenate([network_architecture[:cutme], father.network_architecture[cutfather:]])\n",
      "    #edes-iPython son2 = np.concatenate([father.network_architecture[:cutfather], self.network_architecture[cutme:]]) #self-iPython network_architecture\n",
      "    son2 = np.concatenate([father.network_architecture[:cutfather], network_architecture[cutme:]])\n",
      "\n",
      "    #ini-iPython\n",
      "    print \"\\nFilhos:\"\n",
      "    print son1\n",
      "    print son2\n",
      "    #end-iPython\n",
      "\n",
      "    #des-iPython return [Individual(son1), Individual(son2)] #self-iPython cross"
     ],
     "language": "python",
     "metadata": {},
     "outputs": [],
     "prompt_number": 19
    },
    {
     "cell_type": "code",
     "collapsed": true,
     "input": [
      "#ini-iPython"
     ],
     "language": "python",
     "metadata": {},
     "outputs": [],
     "prompt_number": 20
    },
    {
     "cell_type": "markdown",
     "metadata": {},
     "source": [
      "## Teste cross"
     ]
    },
    {
     "cell_type": "code",
     "collapsed": true,
     "input": [
      "class a:\n",
      "    network_architecture = network_architecture/2\n",
      "\n",
      "father = a()\n",
      "\n",
      "cross(father)\n",
      "#end-iPython"
     ],
     "language": "python",
     "metadata": {},
     "outputs": [
      {
       "output_type": "stream",
       "stream": "stdout",
       "text": [
        "me: [15]\n",
        "[]\n",
        "[15]\n",
        "\n",
        "father: [7]\n",
        "[]\n",
        "[7]\n",
        "\n",
        "Filhos:\n",
        "[7]\n",
        "[15]\n"
       ]
      }
     ],
     "prompt_number": 21
    },
    {
     "cell_type": "markdown",
     "metadata": {},
     "source": [
      "# mutation\n",
      ".\n",
      "doxygen-iPython"
     ]
    },
    {
     "cell_type": "code",
     "collapsed": true,
     "input": [
      "#eself-iPython mutation\n",
      "#edes-iPython def mutation(self):\n",
      "def mutation( ):\n",
      "    limit = 5\n",
      "\n",
      "    wolverine = network_architecture.copy()\n",
      "    \n",
      "    pos = np.random.randint(0, len(network_architecture))\n",
      "    \n",
      "    wolverine[pos] += np.random.randint(-limit, limit+1)\n",
      "    \n",
      "    if wolverine[pos] <= 0:\n",
      "        wolverine[pos] = 1\n",
      "\n",
      "    #ini-iPython\n",
      "    print network_architecture\n",
      "    print wolverine\n",
      "    #end-iPython\n",
      "\n",
      "    #des-iPython return Individual(wolverine) #self-iPython mutation"
     ],
     "language": "python",
     "metadata": {},
     "outputs": [],
     "prompt_number": 22
    },
    {
     "cell_type": "code",
     "collapsed": true,
     "input": [
      "#ini-iPython"
     ],
     "language": "python",
     "metadata": {},
     "outputs": [],
     "prompt_number": 23
    },
    {
     "cell_type": "markdown",
     "metadata": {},
     "source": [
      "## Teste nova_funcao"
     ]
    },
    {
     "cell_type": "code",
     "collapsed": true,
     "input": [
      "mutation()\n",
      "#end-iPython"
     ],
     "language": "python",
     "metadata": {},
     "outputs": [
      {
       "output_type": "stream",
       "stream": "stdout",
       "text": [
        "[15]\n",
        "[20]\n"
       ]
      }
     ],
     "prompt_number": 24
    },
    {
     "cell_type": "markdown",
     "metadata": {},
     "source": [
      "# save\n",
      "Salvando rede em disco/Saving network to disk.\n",
      "doxygen-iPython"
     ]
    },
    {
     "cell_type": "code",
     "collapsed": true,
     "input": [
      "#eself-iPython save\n",
      "#edes-iPython def save(self, files = 'model.sav', adress = './Train/NN/'):\n",
      "def save(files = 'model.sav', adress = './Train/NN/'):\n",
      "    joblib.dump(__network, open(adress + files, 'wb')) #self-iPython save"
     ],
     "language": "python",
     "metadata": {},
     "outputs": [],
     "prompt_number": 25
    },
    {
     "cell_type": "code",
     "collapsed": true,
     "input": [
      "#ini-iPython"
     ],
     "language": "python",
     "metadata": {},
     "outputs": [],
     "prompt_number": 26
    },
    {
     "cell_type": "markdown",
     "metadata": {},
     "source": [
      "## Teste save"
     ]
    },
    {
     "cell_type": "code",
     "collapsed": true,
     "input": [
      "save()\n",
      "#end-iPython"
     ],
     "language": "python",
     "metadata": {},
     "outputs": [],
     "prompt_number": 27
    },
    {
     "cell_type": "code",
     "collapsed": false,
     "input": [
      "#end-tab -> Finalizando classe"
     ],
     "language": "python",
     "metadata": {},
     "outputs": [],
     "prompt_number": 28
    },
    {
     "cell_type": "code",
     "collapsed": true,
     "input": [
      "#ini-iPython"
     ],
     "language": "python",
     "metadata": {},
     "outputs": [],
     "prompt_number": 29
    },
    {
     "cell_type": "markdown",
     "metadata": {},
     "source": [
      "# nova_variavel\n",
      ".\n",
      "doxygen-iPython"
     ]
    },
    {
     "cell_type": "code",
     "collapsed": true,
     "input": [
      "nova_variavel = None #self-iPython nova_variavel"
     ],
     "language": "python",
     "metadata": {},
     "outputs": [],
     "prompt_number": 30
    },
    {
     "cell_type": "markdown",
     "metadata": {},
     "source": [
      "# nova_funcao\n",
      ".\n",
      "doxygen-iPython"
     ]
    },
    {
     "cell_type": "code",
     "collapsed": true,
     "input": [
      "# eself-iPython nova_funcao\n",
      "# edes-iPython def nova_funcao(self, variaveis_funcao):\n",
      "def nova_funcao(variaveis_funcao):\n",
      "    pass # self-iPython nova_funcao"
     ],
     "language": "python",
     "metadata": {},
     "outputs": [],
     "prompt_number": 31
    },
    {
     "cell_type": "code",
     "collapsed": true,
     "input": [
      "#ini-iPython"
     ],
     "language": "python",
     "metadata": {},
     "outputs": [],
     "prompt_number": 32
    },
    {
     "cell_type": "markdown",
     "metadata": {},
     "source": [
      "## Teste nova_funcao"
     ]
    },
    {
     "cell_type": "code",
     "collapsed": true,
     "input": [
      "\n",
      "#end-iPython"
     ],
     "language": "python",
     "metadata": {},
     "outputs": [],
     "prompt_number": 33
    },
    {
     "cell_type": "code",
     "collapsed": true,
     "input": [
      "#end-iPython"
     ],
     "language": "python",
     "metadata": {},
     "outputs": [],
     "prompt_number": 34
    }
   ],
   "metadata": {}
  }
 ]
}