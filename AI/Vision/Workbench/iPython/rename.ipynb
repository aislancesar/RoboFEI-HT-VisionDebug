{
 "metadata": {
  "kernelspec": {
   "display_name": "Python 2",
   "language": "python",
   "name": "python2"
  },
  "language_info": {
   "codemirror_mode": {
    "name": "ipython",
    "version": 2
   },
   "file_extension": ".py",
   "mimetype": "text/x-python",
   "name": "python",
   "nbconvert_exporter": "python",
   "pygments_lexer": "ipython2",
   "version": "2.7.6"
  },
  "name": "",
  "signature": "sha256:32e36e5ee0ebe8baf151b5f61045ce91da4467d7d1a5e512b6cc0b9cd63bcb23"
 },
 "nbformat": 3,
 "nbformat_minor": 0,
 "worksheets": [
  {
   "cells": [
    {
     "cell_type": "code",
     "collapsed": true,
     "input": [
      "import time\n",
      "import sys\n",
      "import os\n",
      "os.chdir('../../')\n",
      "sys.path.append('./include')\n",
      "sys.path.append('./src')"
     ],
     "language": "python",
     "metadata": {},
     "outputs": [],
     "prompt_number": 1
    },
    {
     "cell_type": "code",
     "collapsed": false,
     "input": [
      "image = 1\n",
      "names = [i.rsplit(\".\", 1)[0].replace(\" \", \"\\ \") for i in os.listdir(\"./Train/DNN/imagensTrain\")]\n",
      "\n",
      "digits = 0 \n",
      "size = len(names) \n",
      "while size > 0: \n",
      "    size /= 10 \n",
      "    digits += 1\n",
      "\n",
      "for name in names:\n",
      "#     print name\n",
      "    sub = \"sed -i 's/\"+ name.replace(\"\\ \", \" \") +\"/a\"+ str(image).zfill(digits) +\"/g' ./Train/DNN/annotations/\"+ name +\".xml\"\n",
      "#     print sub\n",
      "    os.system(sub)\n",
      "    jpg = \"mv ./Train/DNN/imagensTrain/\"+ name +\".jpg ./Train/DNN/imagensTrain/a\"+ str(image).zfill(digits) +\".jpg\"\n",
      "#     print jpg\n",
      "    os.system(jpg)\n",
      "    xml = \"mv ./Train/DNN/annotations/\"+ name +\".xml ./Train/DNN/annotations/a\"+ str(image).zfill(digits) +\".xml\"\n",
      "#     print xml\n",
      "    os.system(xml)\n",
      "#     raw_input()\n",
      "    image +=1"
     ],
     "language": "python",
     "metadata": {},
     "outputs": [],
     "prompt_number": 2
    },
    {
     "cell_type": "code",
     "collapsed": false,
     "input": [
      "image = 1\n",
      "names = [i.rsplit(\".\", 1)[0].replace(\" \", \"\\ \") for i in os.listdir(\"./Train/DNN/imagensTrain\")]\n",
      "\n",
      "digits = 0 \n",
      "size = len(names) \n",
      "while size > 0: \n",
      "    size /= 10 \n",
      "    digits += 1\n",
      "\n",
      "for name in names:\n",
      "    sub = \"sed -i 's/\"+ name.replace(\"\\ \", \" \") +\"/image\"+ str(image).zfill(digits) +\"/g' ./Train/DNN/annotations/\"+ name +\".xml\"\n",
      "    os.system(sub)\n",
      "    jpg = \"mv ./Train/DNN/imagensTrain/\"+ name +\".jpg ./Train/DNN/imagensTrain/image\"+ str(image).zfill(digits) +\".jpg\"\n",
      "    os.system(jpg)\n",
      "    xml = \"mv ./Train/DNN/annotations/\"+ name +\".xml ./Train/DNN/annotations/image\"+ str(image).zfill(digits) +\".xml\"\n",
      "    os.system(xml)\n",
      "    image +=1"
     ],
     "language": "python",
     "metadata": {},
     "outputs": [],
     "prompt_number": null
    },
    {
     "cell_type": "code",
     "collapsed": false,
     "input": [],
     "language": "python",
     "metadata": {},
     "outputs": [],
     "prompt_number": null
    },
    {
     "cell_type": "code",
     "collapsed": false,
     "input": [],
     "language": "python",
     "metadata": {},
     "outputs": [],
     "prompt_number": null
    },
    {
     "cell_type": "code",
     "collapsed": true,
     "input": [],
     "language": "python",
     "metadata": {},
     "outputs": [],
     "prompt_number": null
    }
   ],
   "metadata": {}
  }
 ]
}
